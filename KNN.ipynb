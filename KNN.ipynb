{
 "cells": [
  {
   "cell_type": "code",
   "execution_count": 147,
   "id": "c01470ef",
   "metadata": {},
   "outputs": [],
   "source": [
    "import numpy as np\n",
    "import pandas as pd\n",
    "import matplotlib.pyplot as plt"
   ]
  },
  {
   "cell_type": "code",
   "execution_count": 148,
   "id": "94ad7cf9",
   "metadata": {},
   "outputs": [
    {
     "data": {
      "text/plain": [
       "array([[0.0086211 , 0.00326376],\n",
       "       [0.02390996, 0.08264983],\n",
       "       [0.026202  , 0.27584425],\n",
       "       [0.1460216 , 0.27928086],\n",
       "       [0.15932909, 0.28551561],\n",
       "       [0.25991062, 0.30992507],\n",
       "       [0.28646664, 0.36067554],\n",
       "       [0.52201646, 0.36861252],\n",
       "       [0.59150907, 0.38322821],\n",
       "       [0.622563  , 0.40725508],\n",
       "       [0.63860061, 0.46217151],\n",
       "       [0.90218995, 0.60854677],\n",
       "       [0.90473654, 0.63345501],\n",
       "       [0.91960953, 0.69497867],\n",
       "       [0.95749337, 0.91687449]])"
      ]
     },
     "execution_count": 148,
     "metadata": {},
     "output_type": "execute_result"
    }
   ],
   "source": [
    "X=np.random.rand(15,2)\n",
    "for j in range(2):\n",
    "    X[:,j]=sorted(X[:,j])\n",
    "Y=np.array([0,0,0,0,0,1,1,1,1,1,2,2,2,2,2])\n",
    "Z=np.random.rand(1,2)\n",
    "X"
   ]
  },
  {
   "cell_type": "code",
   "execution_count": 149,
   "id": "33132e81",
   "metadata": {},
   "outputs": [
    {
     "data": {
      "image/png": "[encoded data removed]",
      "text/plain": [
       "<Figure size 640x480 with 1 Axes>"
      ]
     },
     "metadata": {},
     "output_type": "display_data"
    }
   ],
   "source": [
    "def plot_data_groups(X,Y):\n",
    "    colours=[\"b\",\"g\",\"y\"]\n",
    "    \n",
    "    \n",
    "    for j in range(X.shape[0]):\n",
    "        plt.scatter(X[j,0],X[j,1],marker=\"x\",c=colours[Y[j]])\n",
    " \n",
    "    plt.scatter(Z[0,0],Z[0,1],marker=\"x\")\n",
    "    plt.title(\"Data Distrubtion\")\n",
    "    plt.xlabel(\"first input\")\n",
    "    plt.ylabel(\"Second input\")\n",
    "plot_data_groups(X,Y)"
   ]
  },
  {
   "cell_type": "code",
   "execution_count": 150,
   "id": "92a9a662",
   "metadata": {},
   "outputs": [
    {
     "data": {
      "text/plain": [
       "(array([0.3125164 , 0.27087504, 0.25807277, 0.15232281, 0.14324289,\n",
       "        0.08336499, 0.08283879, 0.02636928, 0.03512199, 0.04901597,\n",
       "        0.07733679, 0.3006667 , 0.32322582, 0.39094416, 0.68800807]),\n",
       " [0.02636927531175902,\n",
       "  0.03512198862801151,\n",
       "  0.04901596504964972,\n",
       "  0.077336793171076])"
      ]
     },
     "execution_count": 150,
     "metadata": {},
     "output_type": "execute_result"
    }
   ],
   "source": [
    "k=4\n",
    "def Finding_distance(X,Z):\n",
    "        \n",
    "    Distances= np.zeros(X.shape[0])\n",
    "    \n",
    "    for t in range(X.shape[1]):\n",
    "        Distances+=(Z[0,t]-X[:,t])**2\n",
    "        \n",
    "    return Distances\n",
    "Distances=Finding_distance(X,Z)\n",
    "Distances,sorted(Distances)[:k]"
   ]
  },
  {
   "cell_type": "code",
   "execution_count": 151,
   "id": "4d6c3fd9",
   "metadata": {},
   "outputs": [
    {
     "data": {
      "text/plain": [
       "[7, 8, 9, 10]"
      ]
     },
     "execution_count": 151,
     "metadata": {},
     "output_type": "execute_result"
    }
   ],
   "source": [
    "def Finding_closest_distance(X,Distances,k):\n",
    "    indices=[]\n",
    "    minest=[]\n",
    "    for i in range(k):\n",
    "        min=Distances[i]\n",
    "        indices.append(i)\n",
    "        for j in range(i,X.shape[0]):\n",
    "            if (min>Distances[j] and Distances[j] not in minest):\n",
    "                indices[i]=j\n",
    "                min=Distances[j]\n",
    "        minest.append(min)\n",
    "\n",
    "    return indices\n",
    "\n",
    "indices=Finding_closest_distance(X,Distances,k)\n",
    "indices"
   ]
  },
  {
   "cell_type": "code",
   "execution_count": 152,
   "id": "894026be",
   "metadata": {},
   "outputs": [
    {
     "name": "stdout",
     "output_type": "stream",
     "text": [
      "{1: 3, 2: 1}\n"
     ]
    },
    {
     "data": {
      "text/plain": [
       "1"
      ]
     },
     "execution_count": 152,
     "metadata": {},
     "output_type": "execute_result"
    }
   ],
   "source": [
    "def Predication(Y,indices):\n",
    "    repeated_near_class={}\n",
    "    for i in indices:\n",
    "        if Y[i] not in repeated_near_class:\n",
    "            repeated_near_class[Y[i]]=1\n",
    "        else:\n",
    "            repeated_near_class[Y[i]]+=1\n",
    "    print(repeated_near_class)\n",
    "    maxim=None\n",
    "    nearest_neighbour=None\n",
    "    for classs in repeated_near_class:\n",
    "        if (maxim is None or maxim<repeated_near_class[classs]):\n",
    "            maxim=repeated_near_class[classs]\n",
    "            nearest_neighbour=classs\n",
    "    return nearest_neighbour\n",
    "        \n",
    "Predication(Y,indices)"
   ]
  },
  {
   "cell_type": "code",
   "execution_count": null,
   "id": "f5330ab5",
   "metadata": {},
   "outputs": [],
   "source": []
  },
  {
   "cell_type": "code",
   "execution_count": null,
   "id": "f564752c",
   "metadata": {},
   "outputs": [],
   "source": []
  }
 ],
 "metadata": {
  "kernelspec": {
   "display_name": "Python 3 (ipykernel)",
   "language": "python",
   "name": "python3"
  },
  "language_info": {
   "codemirror_mode": {
    "name": "ipython",
    "version": 3
   },
   "file_extension": ".py",
   "mimetype": "text/x-python",
   "name": "python",
   "nbconvert_exporter": "python",
   "pygments_lexer": "ipython3",
   "version": "3.10.6"
  }
 },
 "nbformat": 4,
 "nbformat_minor": 5
}
